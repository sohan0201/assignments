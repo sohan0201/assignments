{
 "cells": [
  {
   "cell_type": "markdown",
   "metadata": {},
   "source": [
    "# importing librraies"
   ]
  },
  {
   "cell_type": "code",
   "execution_count": 1,
   "metadata": {},
   "outputs": [],
   "source": [
    "import numpy as np\n",
    "import pandas as pd"
   ]
  },
  {
   "cell_type": "markdown",
   "metadata": {},
   "source": [
    "# Loading Datasets"
   ]
  },
  {
   "cell_type": "code",
   "execution_count": 2,
   "metadata": {},
   "outputs": [
    {
     "name": "stdout",
     "output_type": "stream",
     "text": [
      "   B  1  1.1  1.2  1.3\n",
      "0  R  1    1    1    2\n",
      "1  R  1    1    1    3\n",
      "2  R  1    1    1    4\n",
      "3  R  1    1    1    5\n",
      "4  R  1    1    2    1\n"
     ]
    }
   ],
   "source": [
    "df=pd.read_csv('https://archive.ics.uci.edu/ml/machine-learning-databases/balance-scale/balance-scale.data')\n",
    "print(df.head())"
   ]
  },
  {
   "cell_type": "code",
   "execution_count": 3,
   "metadata": {},
   "outputs": [
    {
     "data": {
      "text/plain": [
       "(624, 5)"
      ]
     },
     "execution_count": 3,
     "metadata": {},
     "output_type": "execute_result"
    }
   ],
   "source": [
    "\n",
    "\n",
    "df.shape\n",
    "\n"
   ]
  },
  {
   "cell_type": "markdown",
   "metadata": {},
   "source": [
    "# Slice the dataset. Save the first column as y(Target) and rest of the columns as X(Features)."
   ]
  },
  {
   "cell_type": "code",
   "execution_count": 4,
   "metadata": {},
   "outputs": [
    {
     "name": "stdout",
     "output_type": "stream",
     "text": [
      "0    R\n",
      "1    R\n",
      "2    R\n",
      "3    R\n",
      "4    R\n",
      "Name: B, dtype: object\n"
     ]
    }
   ],
   "source": [
    "y_target=df.iloc[:,0]\n",
    "print(y_target.head())"
   ]
  },
  {
   "cell_type": "code",
   "execution_count": 5,
   "metadata": {},
   "outputs": [
    {
     "data": {
      "text/html": [
       "<div>\n",
       "<style scoped>\n",
       "    .dataframe tbody tr th:only-of-type {\n",
       "        vertical-align: middle;\n",
       "    }\n",
       "\n",
       "    .dataframe tbody tr th {\n",
       "        vertical-align: top;\n",
       "    }\n",
       "\n",
       "    .dataframe thead th {\n",
       "        text-align: right;\n",
       "    }\n",
       "</style>\n",
       "<table border=\"1\" class=\"dataframe\">\n",
       "  <thead>\n",
       "    <tr style=\"text-align: right;\">\n",
       "      <th></th>\n",
       "      <th>1</th>\n",
       "      <th>1.1</th>\n",
       "      <th>1.2</th>\n",
       "      <th>1.3</th>\n",
       "    </tr>\n",
       "  </thead>\n",
       "  <tbody>\n",
       "    <tr>\n",
       "      <th>0</th>\n",
       "      <td>1</td>\n",
       "      <td>1</td>\n",
       "      <td>1</td>\n",
       "      <td>2</td>\n",
       "    </tr>\n",
       "    <tr>\n",
       "      <th>1</th>\n",
       "      <td>1</td>\n",
       "      <td>1</td>\n",
       "      <td>1</td>\n",
       "      <td>3</td>\n",
       "    </tr>\n",
       "    <tr>\n",
       "      <th>2</th>\n",
       "      <td>1</td>\n",
       "      <td>1</td>\n",
       "      <td>1</td>\n",
       "      <td>4</td>\n",
       "    </tr>\n",
       "    <tr>\n",
       "      <th>3</th>\n",
       "      <td>1</td>\n",
       "      <td>1</td>\n",
       "      <td>1</td>\n",
       "      <td>5</td>\n",
       "    </tr>\n",
       "    <tr>\n",
       "      <th>4</th>\n",
       "      <td>1</td>\n",
       "      <td>1</td>\n",
       "      <td>2</td>\n",
       "      <td>1</td>\n",
       "    </tr>\n",
       "  </tbody>\n",
       "</table>\n",
       "</div>"
      ],
      "text/plain": [
       "   1  1.1  1.2  1.3\n",
       "0  1    1    1    2\n",
       "1  1    1    1    3\n",
       "2  1    1    1    4\n",
       "3  1    1    1    5\n",
       "4  1    1    2    1"
      ]
     },
     "execution_count": 5,
     "metadata": {},
     "output_type": "execute_result"
    }
   ],
   "source": [
    "x_feature=df.iloc[:,1:]\n",
    "x_feature.head()"
   ]
  },
  {
   "cell_type": "markdown",
   "metadata": {},
   "source": [
    "# Split the dataset by using train_test_split()"
   ]
  },
  {
   "cell_type": "code",
   "execution_count": 6,
   "metadata": {},
   "outputs": [],
   "source": [
    "from sklearn.model_selection import train_test_split as tts\n",
    "X_train, X_test, y_train, y_test = tts(x_feature, y_target, test_size = 0.3, random_state=42)"
   ]
  },
  {
   "cell_type": "markdown",
   "metadata": {},
   "source": [
    "# Use DecisionTree with criterion"
   ]
  },
  {
   "cell_type": "code",
   "execution_count": 7,
   "metadata": {},
   "outputs": [
    {
     "data": {
      "text/plain": [
       "DecisionTreeClassifier(class_weight=None, criterion='gini', max_depth=None,\n",
       "            max_features=None, max_leaf_nodes=None,\n",
       "            min_impurity_decrease=0.0, min_impurity_split=None,\n",
       "            min_samples_leaf=1, min_samples_split=2,\n",
       "            min_weight_fraction_leaf=0.0, presort=False, random_state=None,\n",
       "            splitter='best')"
      ]
     },
     "execution_count": 7,
     "metadata": {},
     "output_type": "execute_result"
    }
   ],
   "source": [
    "from sklearn.tree import DecisionTreeClassifier\n",
    "model = DecisionTreeClassifier()\n",
    "model.fit(X_train, y_train)"
   ]
  },
  {
   "cell_type": "code",
   "execution_count": 8,
   "metadata": {},
   "outputs": [],
   "source": [
    "pred_y = model.predict(X_test)"
   ]
  },
  {
   "cell_type": "code",
   "execution_count": 9,
   "metadata": {},
   "outputs": [
    {
     "name": "stdout",
     "output_type": "stream",
     "text": [
      "    Actual Predicted\n",
      "446      R         B\n",
      "496      L         L\n",
      "215      B         L\n",
      "212      R         R\n",
      "479      L         L\n",
      "501      L         L\n",
      "163      R         R\n",
      "77       B         L\n",
      "526      L         L\n",
      "145      R         R\n",
      "265      R         R\n",
      "31       R         R\n",
      "55       R         B\n",
      "90       R         R\n",
      "556      L         L\n",
      "76       L         L\n",
      "2        R         R\n",
      "367      R         R\n",
      "395      R         R\n",
      "334      L         L\n",
      "131      R         R\n",
      "148      R         R\n",
      "49       L         L\n",
      "620      L         L\n",
      "316      R         B\n",
      "110      R         R\n",
      "257      R         R\n",
      "577      L         L\n",
      "619      L         L\n",
      "256      R         R\n",
      "..     ...       ...\n",
      "165      R         R\n",
      "465      L         L\n",
      "335      L         L\n",
      "213      R         R\n",
      "137      R         R\n",
      "399      L         L\n",
      "605      L         L\n",
      "176      L         L\n",
      "9        R         R\n",
      "495      L         L\n",
      "238      R         R\n",
      "322      R         R\n",
      "609      L         L\n",
      "268      R         R\n",
      "84       L         B\n",
      "290      R         B\n",
      "311      B         L\n",
      "319      L         L\n",
      "416      R         R\n",
      "490      L         L\n",
      "247      R         R\n",
      "505      L         B\n",
      "298      R         R\n",
      "153      R         B\n",
      "75       L         L\n",
      "92       R         R\n",
      "320      R         L\n",
      "68       R         R\n",
      "15       R         R\n",
      "507      R         R\n",
      "\n",
      "[188 rows x 2 columns]\n"
     ]
    }
   ],
   "source": [
    "result = pd.DataFrame({'Actual': y_test, 'Predicted':pred_y})\n",
    "print(result)"
   ]
  },
  {
   "cell_type": "markdown",
   "metadata": {},
   "source": [
    "# Print the accuracy score."
   ]
  },
  {
   "cell_type": "code",
   "execution_count": 10,
   "metadata": {},
   "outputs": [
    {
     "data": {
      "text/plain": [
       "0.8085106382978723"
      ]
     },
     "execution_count": 10,
     "metadata": {},
     "output_type": "execute_result"
    }
   ],
   "source": [
    "from sklearn.metrics import accuracy_score\n",
    "accuracy_score(y_test,pred_y)\n",
    "#print(\"The accuracy score is : {}\".format(accuracy_score))"
   ]
  },
  {
   "cell_type": "code",
   "execution_count": 11,
   "metadata": {},
   "outputs": [
    {
     "name": "stdout",
     "output_type": "stream",
     "text": [
      "[[ 1  8  3]\n",
      " [11 76  0]\n",
      " [12  2 75]]\n",
      "             precision    recall  f1-score   support\n",
      "\n",
      "          B       0.04      0.08      0.06        12\n",
      "          L       0.88      0.87      0.88        87\n",
      "          R       0.96      0.84      0.90        89\n",
      "\n",
      "avg / total       0.87      0.81      0.84       188\n",
      "\n"
     ]
    }
   ],
   "source": [
    "from sklearn.metrics import confusion_matrix as cm, classification_report as cr\n",
    "print(cm(y_test, pred_y))\n",
    "print(cr(y_test, pred_y))"
   ]
  },
  {
   "cell_type": "markdown",
   "metadata": {},
   "source": [
    "# Use RandomForset with criterion"
   ]
  },
  {
   "cell_type": "code",
   "execution_count": 12,
   "metadata": {},
   "outputs": [
    {
     "data": {
      "text/plain": [
       "RandomForestClassifier(bootstrap=True, class_weight=None, criterion='gini',\n",
       "            max_depth=None, max_features='auto', max_leaf_nodes=None,\n",
       "            min_impurity_decrease=0.0, min_impurity_split=None,\n",
       "            min_samples_leaf=1, min_samples_split=2,\n",
       "            min_weight_fraction_leaf=0.0, n_estimators=10, n_jobs=2,\n",
       "            oob_score=False, random_state=None, verbose=0,\n",
       "            warm_start=False)"
      ]
     },
     "execution_count": 12,
     "metadata": {},
     "output_type": "execute_result"
    }
   ],
   "source": [
    "from sklearn.ensemble import RandomForestClassifier\n",
    "clf = RandomForestClassifier(n_jobs = 2)\n",
    "clf.fit(X_train, y_train)"
   ]
  },
  {
   "cell_type": "code",
   "execution_count": 13,
   "metadata": {},
   "outputs": [],
   "source": [
    "pred_y = clf.predict(X_test)"
   ]
  },
  {
   "cell_type": "code",
   "execution_count": 14,
   "metadata": {},
   "outputs": [
    {
     "name": "stdout",
     "output_type": "stream",
     "text": [
      "    Actual Predicted\n",
      "446      R         B\n",
      "496      L         L\n",
      "215      B         L\n",
      "212      R         R\n",
      "479      L         L\n",
      "501      L         L\n",
      "163      R         R\n",
      "77       B         R\n",
      "526      L         L\n",
      "145      R         R\n",
      "265      R         R\n",
      "31       R         R\n",
      "55       R         L\n",
      "90       R         R\n",
      "556      L         L\n",
      "76       L         L\n",
      "2        R         R\n",
      "367      R         R\n",
      "395      R         R\n",
      "334      L         L\n",
      "131      R         R\n",
      "148      R         R\n",
      "49       L         L\n",
      "620      L         L\n",
      "316      R         R\n",
      "110      R         R\n",
      "257      R         R\n",
      "577      L         L\n",
      "619      L         L\n",
      "256      R         R\n",
      "..     ...       ...\n",
      "165      R         R\n",
      "465      L         L\n",
      "335      L         L\n",
      "213      R         R\n",
      "137      R         R\n",
      "399      L         L\n",
      "605      L         L\n",
      "176      L         L\n",
      "9        R         R\n",
      "495      L         L\n",
      "238      R         R\n",
      "322      R         R\n",
      "609      L         L\n",
      "268      R         R\n",
      "84       L         B\n",
      "290      R         B\n",
      "311      B         R\n",
      "319      L         L\n",
      "416      R         R\n",
      "490      L         L\n",
      "247      R         R\n",
      "505      L         B\n",
      "298      R         R\n",
      "153      R         B\n",
      "75       L         L\n",
      "92       R         R\n",
      "320      R         L\n",
      "68       R         R\n",
      "15       R         R\n",
      "507      R         R\n",
      "\n",
      "[188 rows x 2 columns]\n"
     ]
    }
   ],
   "source": [
    "result = pd.DataFrame({'Actual': y_test, 'Predicted':pred_y})\n",
    "print(result)"
   ]
  },
  {
   "cell_type": "code",
   "execution_count": 15,
   "metadata": {},
   "outputs": [
    {
     "name": "stdout",
     "output_type": "stream",
     "text": [
      "[[ 0  7  5]\n",
      " [ 9 78  0]\n",
      " [ 6  4 79]]\n",
      "             precision    recall  f1-score   support\n",
      "\n",
      "          B       0.00      0.00      0.00        12\n",
      "          L       0.88      0.90      0.89        87\n",
      "          R       0.94      0.89      0.91        89\n",
      "\n",
      "avg / total       0.85      0.84      0.84       188\n",
      "\n"
     ]
    }
   ],
   "source": [
    "from sklearn.metrics import confusion_matrix as cm, classification_report as cr\n",
    "print(cm(y_test, pred_y))\n",
    "print(cr(y_test, pred_y))"
   ]
  },
  {
   "cell_type": "markdown",
   "metadata": {},
   "source": [
    "# Print the accuracy score"
   ]
  },
  {
   "cell_type": "code",
   "execution_count": 16,
   "metadata": {},
   "outputs": [
    {
     "data": {
      "text/plain": [
       "0.8351063829787234"
      ]
     },
     "execution_count": 16,
     "metadata": {},
     "output_type": "execute_result"
    }
   ],
   "source": [
    "from sklearn.metrics import accuracy_score\n",
    "accuracy_score(y_test,pred_y)"
   ]
  },
  {
   "cell_type": "code",
   "execution_count": null,
   "metadata": {},
   "outputs": [],
   "source": []
  }
 ],
 "metadata": {
  "kernelspec": {
   "display_name": "Python 2",
   "language": "python",
   "name": "python2"
  },
  "language_info": {
   "codemirror_mode": {
    "name": "ipython",
    "version": 2
   },
   "file_extension": ".py",
   "mimetype": "text/x-python",
   "name": "python",
   "nbconvert_exporter": "python",
   "pygments_lexer": "ipython2",
   "version": "2.7.14"
  }
 },
 "nbformat": 4,
 "nbformat_minor": 2
}
