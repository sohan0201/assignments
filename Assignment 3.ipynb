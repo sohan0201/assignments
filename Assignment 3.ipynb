{
 "cells": [
  {
   "cell_type": "code",
   "execution_count": 23,
   "metadata": {},
   "outputs": [
    {
     "name": "stdout",
     "output_type": "stream",
     "text": [
      "('P(B|A)', Fraction(3, 100))\n"
     ]
    }
   ],
   "source": [
    "#Question 1\n",
    "from __future__ import division\n",
    "from fractions import Fraction\n",
    "def event_probality(AB,B,A):\n",
    "    BA=\"%.2f\"%((AB*B)/A)\n",
    "    print(\"P(B|A)\",Fraction(BA))\n",
    "    \n",
    "event_probality(2/36,6/36,11/36)"
   ]
  },
  {
   "cell_type": "code",
   "execution_count": 22,
   "metadata": {},
   "outputs": [
    {
     "name": "stdout",
     "output_type": "stream",
     "text": [
      "0.30\n",
      "0.21\n",
      "0.588235294118\n"
     ]
    }
   ],
   "source": [
    "# #Question 2\n",
    "\n",
    "# #Bag1 contains 6 Black balls and 4 White balls\n",
    "Black_1=6\n",
    "White_1=4\n",
    "Total_1=10\n",
    "#Bag 2 contains 4 White balls and 3 Black balls\n",
    "Black_2=3\n",
    "White_2=4\n",
    "Total_2=7\n",
    "\n",
    "#sample space\n",
    "total_bag=2\n",
    "\n",
    "#One ball drawn random and it is found black\n",
    "Bag1_Probality= \"%.2f\"%((Black_1 / Total_1)*(1/total_bag))\n",
    "\n",
    "print(Bag1_Probality)\n",
    "\n",
    "Bag2_Probality=\"%.2f\"%((Black_2 / Total_2)*(1/total_bag))\n",
    "\n",
    "print(Bag2_Probality)\n",
    "\n",
    "#Event is given that the ball drawn from Bag 1\n",
    "Event_Probality= float(Bag1_Probality)/(float (Bag1_Probality)+float (Bag2_Probality))\n",
    "\n",
    "print(Event_Probality)\n"
   ]
  },
  {
   "cell_type": "code",
   "execution_count": 18,
   "metadata": {},
   "outputs": [
    {
     "name": "stdout",
     "output_type": "stream",
     "text": [
      "('Probability of Truth= ', Fraction(143, 500))\n"
     ]
    }
   ],
   "source": [
    "#Question 3.\n",
    "p_truth_4=(2/3)*(1/6)\n",
    "p_lie_4=(1/3)*(5/6)\n",
    "\n",
    "p=\"%.3f\"%(p_truth_4/(p_truth_4+p_lie_4))\n",
    "print(\"Probability of Truth= \",Fraction(p))"
   ]
  }
 ],
 "metadata": {
  "kernelspec": {
   "display_name": "Python 2",
   "language": "python",
   "name": "python2"
  },
  "language_info": {
   "codemirror_mode": {
    "name": "ipython",
    "version": 2
   },
   "file_extension": ".py",
   "mimetype": "text/x-python",
   "name": "python",
   "nbconvert_exporter": "python",
   "pygments_lexer": "ipython2",
   "version": "2.7.14"
  }
 },
 "nbformat": 4,
 "nbformat_minor": 2
}
